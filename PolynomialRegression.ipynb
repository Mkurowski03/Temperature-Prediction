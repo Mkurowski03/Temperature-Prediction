{
 "cells": [
  {
   "cell_type": "code",
   "execution_count": 15,
   "id": "c8d9f399",
   "metadata": {},
   "outputs": [],
   "source": [
    "from datetime import datetime\n",
    "from sklearn.linear_model import LinearRegression\n",
    "from sklearn.metrics import mean_squared_error\n",
    "from sklearn.model_selection import train_test_split\n",
    "from sklearn.feature_selection import RFE\n",
    "from sklearn.preprocessing import PolynomialFeatures\n",
    "import numpy as np\n",
    "import pandas as pd\n",
    "import matplotlib.pyplot as plt\n",
    "%matplotlib inline\n",
    "import seaborn as sns\n",
    "sns.set_style(\"darkgrid\")\n",
    "import sklearn\n",
    "pd.set_option('display.max_rows', 500)\n",
    "pd.set_option('display.max_columns', 500)"
   ]
  },
  {
   "cell_type": "code",
   "execution_count": 16,
   "id": "af19213d",
   "metadata": {},
   "outputs": [],
   "source": [
    "wth = pd.read_csv(\"weatherHistory.csv\")"
   ]
  },
  {
   "cell_type": "code",
   "execution_count": 17,
   "id": "9f0a7e10",
   "metadata": {},
   "outputs": [],
   "source": [
    "wth.drop_duplicates(inplace=True)"
   ]
  },
  {
   "cell_type": "code",
   "execution_count": 23,
   "id": "98e9a9c5",
   "metadata": {},
   "outputs": [],
   "source": [
    "dates = pd.DataFrame(wth[\"Formatted Date\"].apply(lambda x: x[:10]).value_counts())\n",
    "down_index = dates.loc[dates[\"Formatted Date\"] < 24].index\n",
    "for i in down_index:\n",
    "    wth = wth[~(wth[\"Formatted Date\"].str.startswith(i))]\n",
    "upper_index = dates.loc[dates[\"Formatted Date\"] > 24].index\n",
    "for i in upper_index:\n",
    "    wth = wth[~(wth[\"Formatted Date\"].str.startswith(i))]"
   ]
  },
  {
   "cell_type": "code",
   "execution_count": 24,
   "id": "87d8986a",
   "metadata": {},
   "outputs": [],
   "source": [
    "wth.dropna(inplace=True)"
   ]
  },
  {
   "cell_type": "code",
   "execution_count": 25,
   "id": "23f86253",
   "metadata": {},
   "outputs": [],
   "source": [
    "wth.drop(\"Loud Cover\", axis=1, inplace=True)\n",
    "wth.drop(\"Apparent Temperature (C)\", axis=1, inplace=True)\n",
    "wth.drop(\"Daily Summary\", axis=1, inplace=True)\n",
    "wth.drop(\"Summary\", axis=1, inplace=True)\n",
    "wth.drop(wth[wth[\"Pressure (millibars)\"] < 1].index, inplace=True)\n",
    "\n",
    "\n",
    "wth[\"hour\"] = wth[\"Formatted Date\"].apply(lambda x: x[10:13])\n",
    "wth[\"hour\"] = wth[\"hour\"].astype(int)\n",
    "\n",
    "\n",
    "wth[\"Month\"] = wth[\"Formatted Date\"].apply(lambda x: x[5:7])\n",
    "wth[\"Month\"] = wth[\"Month\"].astype(int)\n",
    "   \n",
    "                                   \n",
    "wth[\"DayOfYear\"] = wth[\"Formatted Date\"].apply(lambda x: x[:10])\n",
    "wth['DayOfYear'] = wth['DayOfYear'].astype('datetime64[ns]')\n",
    "wth[\"DayOfYear\"] = wth[\"DayOfYear\"].apply(lambda x: x.timetuple().tm_yday)\n",
    "                                   \n",
    "                                   \n",
    "precip_mask = {\n",
    "    \"rain\" : 0,\n",
    "    \"snow\" : 1\n",
    "}\n",
    "\n",
    "wth.replace({\"Precip Type\": precip_mask}, inplace=True)\n",
    "                                   \n",
    "\n",
    "wth.dropna(how=\"all\", inplace=True)\n",
    "wth = wth.drop(\"Formatted Date\", axis =1)"
   ]
  },
  {
   "cell_type": "markdown",
   "id": "5c38b82c",
   "metadata": {},
   "source": [
    "# Future forward selection"
   ]
  },
  {
   "cell_type": "code",
   "execution_count": 28,
   "id": "fbafb40d",
   "metadata": {},
   "outputs": [],
   "source": [
    "model = LinearRegression()\n",
    "summary_df = pd.DataFrame()\n",
    "X_train, X_test, y_train, y_test = train_test_split(wth.drop(\"Temperature (C)\", axis=1), wth[\"Temperature (C)\"], test_size=0.2)\n",
    "columns = []\n",
    "for i in range(1, 11):\n",
    "    rfe = RFE(model, n_features_to_select=i)\n",
    "    rfe.fit(X_train, y_train)\n",
    "    cols = X_train.columns[rfe.support_]\n",
    "    columns.append(cols)\n",
    "    \n"
   ]
  },
  {
   "cell_type": "code",
   "execution_count": 29,
   "id": "048c45b1",
   "metadata": {},
   "outputs": [],
   "source": [
    "#Based on rfe.fit, we create a list of variables in the order in which they were selected by the model.\n",
    "values_dict = {\n",
    "    \"Humidity\" : 0,\n",
    "    \"Precip Type\": 0,\n",
    "    \"Pressure (millibars)\" : 0,\n",
    "    \"Wind Speed (km/h)\" : 0,\n",
    "    \"Wind Bearing (degrees)\" : 0,\n",
    "    \"Visibility (km)\" : 0,\n",
    "    \"hour\" : 0,\n",
    "    \"Month\" : 0,\n",
    "    \"DayOfYear\" : 0,\n",
    "    \n",
    "}\n",
    "\n",
    "for idx in columns:\n",
    "    for value in idx:\n",
    "        values_dict[value] += 1\n",
    "        \n",
    "\n",
    "columns_by_imp = list(dict(sorted(values_dict.items(), key=lambda x: x[1])))\n",
    "columns_by_imp.reverse()"
   ]
  },
  {
   "cell_type": "code",
   "execution_count": 30,
   "id": "2bab82f4",
   "metadata": {},
   "outputs": [],
   "source": [
    "#We check how the cost function changes for different tree depths and different numbers of variables added to the model\n",
    "for z in range(5, 10):\n",
    "    for j in range(4, 6):\n",
    "        poly = PolynomialFeatures(degree=j)\n",
    "        X_train, X_test, y_train, y_test = train_test_split(wth[columns_by_imp[:z]], wth[\"Temperature (C)\"], test_size=0.2)\n",
    "        X_train = poly.fit_transform(X_train)\n",
    "        X_test = poly.fit_transform(X_test)\n",
    "        model = LinearRegression()\n",
    "        model.fit(X_train, y_train)\n",
    "        y_pred = model.predict(X_test)\n",
    "        mse = mean_squared_error(y_test, y_pred)\n",
    "        summary_df = pd.concat([summary_df, pd.DataFrame({\"mse\": [mse], \"degree\" : j, \"amount of values\" : z}\n",
    "                                                        )])"
   ]
  },
  {
   "cell_type": "code",
   "execution_count": 31,
   "id": "fd239043",
   "metadata": {},
   "outputs": [
    {
     "data": {
      "text/html": [
       "<div>\n",
       "<style scoped>\n",
       "    .dataframe tbody tr th:only-of-type {\n",
       "        vertical-align: middle;\n",
       "    }\n",
       "\n",
       "    .dataframe tbody tr th {\n",
       "        vertical-align: top;\n",
       "    }\n",
       "\n",
       "    .dataframe thead th {\n",
       "        text-align: right;\n",
       "    }\n",
       "</style>\n",
       "<table border=\"1\" class=\"dataframe\">\n",
       "  <thead>\n",
       "    <tr style=\"text-align: right;\">\n",
       "      <th></th>\n",
       "      <th>mse</th>\n",
       "      <th>degree</th>\n",
       "      <th>amount of values</th>\n",
       "    </tr>\n",
       "  </thead>\n",
       "  <tbody>\n",
       "    <tr>\n",
       "      <th>0</th>\n",
       "      <td>7.909330</td>\n",
       "      <td>5</td>\n",
       "      <td>9</td>\n",
       "    </tr>\n",
       "    <tr>\n",
       "      <th>0</th>\n",
       "      <td>8.009071</td>\n",
       "      <td>4</td>\n",
       "      <td>9</td>\n",
       "    </tr>\n",
       "    <tr>\n",
       "      <th>0</th>\n",
       "      <td>8.370242</td>\n",
       "      <td>5</td>\n",
       "      <td>8</td>\n",
       "    </tr>\n",
       "    <tr>\n",
       "      <th>0</th>\n",
       "      <td>8.554149</td>\n",
       "      <td>4</td>\n",
       "      <td>8</td>\n",
       "    </tr>\n",
       "    <tr>\n",
       "      <th>0</th>\n",
       "      <td>9.480125</td>\n",
       "      <td>5</td>\n",
       "      <td>7</td>\n",
       "    </tr>\n",
       "    <tr>\n",
       "      <th>0</th>\n",
       "      <td>9.531649</td>\n",
       "      <td>4</td>\n",
       "      <td>7</td>\n",
       "    </tr>\n",
       "    <tr>\n",
       "      <th>0</th>\n",
       "      <td>10.348509</td>\n",
       "      <td>5</td>\n",
       "      <td>6</td>\n",
       "    </tr>\n",
       "    <tr>\n",
       "      <th>0</th>\n",
       "      <td>10.594719</td>\n",
       "      <td>4</td>\n",
       "      <td>6</td>\n",
       "    </tr>\n",
       "    <tr>\n",
       "      <th>0</th>\n",
       "      <td>10.682702</td>\n",
       "      <td>4</td>\n",
       "      <td>5</td>\n",
       "    </tr>\n",
       "    <tr>\n",
       "      <th>0</th>\n",
       "      <td>10.829072</td>\n",
       "      <td>5</td>\n",
       "      <td>5</td>\n",
       "    </tr>\n",
       "  </tbody>\n",
       "</table>\n",
       "</div>"
      ],
      "text/plain": [
       "         mse  degree  amount of values\n",
       "0   7.909330       5                 9\n",
       "0   8.009071       4                 9\n",
       "0   8.370242       5                 8\n",
       "0   8.554149       4                 8\n",
       "0   9.480125       5                 7\n",
       "0   9.531649       4                 7\n",
       "0  10.348509       5                 6\n",
       "0  10.594719       4                 6\n",
       "0  10.682702       4                 5\n",
       "0  10.829072       5                 5"
      ]
     },
     "execution_count": 31,
     "metadata": {},
     "output_type": "execute_result"
    }
   ],
   "source": [
    "summary_df.sort_values(\"mse\")  #hyperparameters degree: 5, values 9"
   ]
  },
  {
   "cell_type": "code",
   "execution_count": 32,
   "id": "95f492f9",
   "metadata": {},
   "outputs": [],
   "source": [
    "poly = PolynomialFeatures(degree=5)\n",
    "X_train, X_test, y_train, y_test = train_test_split(wth.drop(\"Temperature (C)\", axis=1), wth[\"Temperature (C)\"], test_size=0.2)\n",
    "X_train = poly.fit_transform(X_train)\n",
    "X_test = poly.fit_transform(X_test)\n",
    "model = LinearRegression()\n",
    "model.fit(X_train, y_train)\n",
    "y_pred = model.predict(X_test)\n",
    "mse = mean_squared_error(y_test, y_pred)"
   ]
  },
  {
   "cell_type": "code",
   "execution_count": 33,
   "id": "27461d62",
   "metadata": {},
   "outputs": [
    {
     "name": "stdout",
     "output_type": "stream",
     "text": [
      "Mse: 8.16778573292139, Mae: 2.8579338223481296\n"
     ]
    }
   ],
   "source": [
    "print(f\"Mse: {mse}, Mae: {mse**(1/2)}\")"
   ]
  },
  {
   "cell_type": "code",
   "execution_count": 34,
   "id": "c886889e",
   "metadata": {
    "scrolled": true
   },
   "outputs": [
    {
     "data": {
      "text/plain": [
       "<AxesSubplot:xlabel='Temperature (C)', ylabel='Count'>"
      ]
     },
     "execution_count": 34,
     "metadata": {},
     "output_type": "execute_result"
    },
    {
     "data": {
      "image/png": "[encoded data removed]",
      "text/plain": [
       "<Figure size 640x480 with 1 Axes>"
      ]
     },
     "metadata": {},
     "output_type": "display_data"
    }
   ],
   "source": [
    "sns.histplot(y_test - y_pred)"
   ]
  },
  {
   "cell_type": "code",
   "execution_count": 35,
   "id": "a6405d0f",
   "metadata": {},
   "outputs": [
    {
     "data": {
      "text/plain": [
       "<AxesSubplot:ylabel='Temperature (C)'>"
      ]
     },
     "execution_count": 35,
     "metadata": {},
     "output_type": "execute_result"
    },
    {
     "data": {
      "image/png": "[encoded data removed]",
      "text/plain": [
       "<Figure size 640x480 with 1 Axes>"
      ]
     },
     "metadata": {},
     "output_type": "display_data"
    }
   ],
   "source": [
    "sns.scatterplot(x=y_pred, y=y_test)"
   ]
  },
  {
   "cell_type": "markdown",
   "id": "c6cc5e41",
   "metadata": {},
   "source": [
    "# The model works satisfactorily, with its only drawback being a few very inaccurate predictions.\n"
   ]
  },
  {
   "cell_type": "code",
   "execution_count": null,
   "id": "c776f764",
   "metadata": {},
   "outputs": [],
   "source": []
  }
 ],
 "metadata": {
  "kernelspec": {
   "display_name": "Python 3 (ipykernel)",
   "language": "python",
   "name": "python3"
  },
  "language_info": {
   "codemirror_mode": {
    "name": "ipython",
    "version": 3
   },
   "file_extension": ".py",
   "mimetype": "text/x-python",
   "name": "python",
   "nbconvert_exporter": "python",
   "pygments_lexer": "ipython3",
   "version": "3.9.13"
  }
 },
 "nbformat": 4,
 "nbformat_minor": 5
}
